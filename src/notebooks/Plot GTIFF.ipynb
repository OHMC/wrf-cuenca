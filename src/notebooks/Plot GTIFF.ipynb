{
 "cells": [
  {
   "cell_type": "code",
   "execution_count": 2,
   "metadata": {},
   "outputs": [],
   "source": [
    "import numpy as np\n",
    "import cartopy.crs as ccrs\n",
    "import rasterio\n",
    "import matplotlib.pyplot as plt"
   ]
  },
  {
   "cell_type": "code",
   "execution_count": 1,
   "metadata": {},
   "outputs": [
    {
     "ename": "NameError",
     "evalue": "name 'rasterio' is not defined",
     "output_type": "error",
     "traceback": [
      "\u001b[0;31m---------------------------------------------------------------------------\u001b[0m",
      "\u001b[0;31mNameError\u001b[0m                                 Traceback (most recent call last)",
      "\u001b[0;32m<ipython-input-1-35109a2ed20a>\u001b[0m in \u001b[0;36m<module>\u001b[0;34m\u001b[0m\n\u001b[1;32m      1\u001b[0m \u001b[0mfilename\u001b[0m \u001b[0;34m=\u001b[0m \u001b[0;34m'rasterio/tests/data/RGB.byte.tif'\u001b[0m\u001b[0;34m\u001b[0m\u001b[0;34m\u001b[0m\u001b[0m\n\u001b[0;32m----> 2\u001b[0;31m \u001b[0;32mwith\u001b[0m \u001b[0mrasterio\u001b[0m\u001b[0;34m.\u001b[0m\u001b[0mdrivers\u001b[0m\u001b[0;34m(\u001b[0m\u001b[0;34m)\u001b[0m\u001b[0;34m:\u001b[0m\u001b[0;34m\u001b[0m\u001b[0;34m\u001b[0m\u001b[0m\n\u001b[0m\u001b[1;32m      3\u001b[0m     \u001b[0;32mwith\u001b[0m \u001b[0mrasterio\u001b[0m\u001b[0;34m.\u001b[0m\u001b[0mopen\u001b[0m\u001b[0;34m(\u001b[0m\u001b[0mfilename\u001b[0m\u001b[0;34m,\u001b[0m \u001b[0;34m'r'\u001b[0m\u001b[0;34m)\u001b[0m \u001b[0;32mas\u001b[0m \u001b[0msrc\u001b[0m\u001b[0;34m:\u001b[0m\u001b[0;34m\u001b[0m\u001b[0;34m\u001b[0m\u001b[0m\n\u001b[1;32m      4\u001b[0m \u001b[0;34m\u001b[0m\u001b[0m\n\u001b[1;32m      5\u001b[0m         \u001b[0;31m# read image into ndarray\u001b[0m\u001b[0;34m\u001b[0m\u001b[0;34m\u001b[0m\u001b[0;34m\u001b[0m\u001b[0m\n",
      "\u001b[0;31mNameError\u001b[0m: name 'rasterio' is not defined"
     ]
    }
   ],
   "source": [
    "filename = 'rasterio/tests/data/RGB.byte.tif'\n",
    "with rasterio.drivers():\n",
    "    with rasterio.open(filename, 'r') as src:\n",
    "\n",
    "        # read image into ndarray\n",
    "        im = src.read()\n",
    "\n",
    "        # transpose the array from (band, row, col) to (row, col, band)\n",
    "        im = np.transpose(im, [1,2,0])\n",
    "\n",
    "        # calculate extent of raster\n",
    "        xmin = src.transform[0]\n",
    "        xmax = src.transform[0] + src.transform[1]*src.width\n",
    "        ymin = src.transform[3] + src.transform[5]*src.height\n",
    "        ymax = src.transform[3]\n",
    "\n",
    "        # define cartopy crs for the raster, based on rasterio metadata\n",
    "        crs = ccrs.UTM(src.crs['zone'])\n",
    "\n",
    "        # create figure\n",
    "        ax = plt.axes(projection=crs)\n",
    "        plt.title('RGB.byte.tif')\n",
    "        ax.set_xmargin(0.05)\n",
    "        ax.set_ymargin(0.10)\n",
    "\n",
    "        # plot raster\n",
    "        plt.imshow(im, origin='upper', extent=[xmin, xmax, ymin, ymax], transform=crs, interpolation='nearest')\n",
    "\n",
    "        # plot coastlines\n",
    "        ax.coastlines(resolution='10m', color='red', linewidth=1)\n",
    "\n",
    "        plt.show()"
   ]
  },
  {
   "cell_type": "code",
   "execution_count": null,
   "metadata": {},
   "outputs": [],
   "source": []
  }
 ],
 "metadata": {
  "kernelspec": {
   "display_name": "Python 3",
   "language": "python",
   "name": "python3"
  },
  "language_info": {
   "codemirror_mode": {
    "name": "ipython",
    "version": 3
   },
   "file_extension": ".py",
   "mimetype": "text/x-python",
   "name": "python",
   "nbconvert_exporter": "python",
   "pygments_lexer": "ipython3",
   "version": "3.8.5"
  }
 },
 "nbformat": 4,
 "nbformat_minor": 4
}
