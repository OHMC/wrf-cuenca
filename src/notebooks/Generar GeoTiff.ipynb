{
 "cells": [
  {
   "cell_type": "markdown",
   "metadata": {},
   "source": [
    "# Función para generar GeoTiff\n"
   ]
  },
  {
   "cell_type": "code",
   "execution_count": 2,
   "metadata": {},
   "outputs": [],
   "source": [
    "import xarray as xr\n",
    "import numpy as np\n",
    "import pangaea as pa\n",
    "import xarray as xr"
   ]
  },
  {
   "cell_type": "code",
   "execution_count": 3,
   "metadata": {},
   "outputs": [],
   "source": [
    "def corregir_wrfout(ruta_wrfout):\n",
    "    xds =  xr.open_dataset(ruta_wrfout)\n",
    "    variables = ['XLAT', 'XLONG', 'XLAT_U', 'XLONG_U', 'XLAT_V', 'XLONG_V']\n",
    "    for var in variables:\n",
    "        if len(xds.coords['XLAT'].shape) > 2:\n",
    "            xds.coords[var] = xds.coords[var].mean(axis=0)\n",
    "    xds.to_netcdf(ruta_wrfout + '.nc')\n",
    "    xds.close()\n",
    "\n",
    "    \n",
    "def abrir_plsm(ruta_wrfout):\n",
    "    plsm = pa.open_mfdataset(ruta_wrfout,\n",
    "                       lat_var='XLAT',\n",
    "                       lon_var='XLONG',\n",
    "                       time_var='XTIME',\n",
    "                       lat_dim='south_north',\n",
    "                       lon_dim='west_east',\n",
    "                       time_dim='Time')\n",
    "    return plsm\n",
    "\n",
    "\n",
    "def to_projection(plsm, variable, projection=None):\n",
    "    \"\"\"Convert Grid to New Projection.\n",
    "        Parameters\n",
    "        ----------\n",
    "        variable: :obj:`str`\n",
    "            Name of variable in dataset.\n",
    "        projection: :func:`osr.SpatialReference`\n",
    "            Projection to convert data to.\n",
    "        Returns\n",
    "        -------\n",
    "        :func:`xarray.Dataset`\n",
    "    \"\"\"\n",
    "    if projection == None:\n",
    "        from osgeo import osr, gdalconst\n",
    "        projection = osr.SpatialReference()\n",
    "        projection.ImportFromProj4(\"+proj=longlat +ellps=WGS84 +datum=WGS84 +no_defs\")\n",
    "    new_data = []\n",
    "    from gazar.grid import ArrayGrid\n",
    "    for band in range(plsm._obj.dims[plsm.time_dim]):\n",
    "        arr_grid = ArrayGrid(in_array=plsm._obj[variable][band].values[::-1,:],\n",
    "                             wkt_projection=plsm.projection.ExportToWkt(),\n",
    "                             geotransform=plsm.geotransform)\n",
    "        ggrid = arr_grid.to_projection(projection, gdalconst.GRA_Average)\n",
    "        new_data.append(ggrid.np_array())\n",
    "\n",
    "    plsm.to_datetime()\n",
    "    return plsm._export_dataset(variable, np.array(new_data),\n",
    "ggrid)\n",
    "\n",
    "\n",
    "def guardar_tif(vari, arr, out_path):\n",
    "    import rasterio\n",
    "    new_dataset = rasterio.open(out_path, 'w', driver='GTiff',\n",
    "                                height = arr.shape[0], width = arr.shape[1],\n",
    "                                count=1, dtype=str(arr.dtype),\n",
    "                                crs=vari.lsm.projection.ExportToWkt(),\n",
    "                                transform=vari.lsm.affine)\n",
    "    new_dataset.write(arr, 1)\n",
    "    new_dataset.close()\n",
    "\n",
    "    \n",
    "def convertir_variable(plsm, variable):\n",
    "    vari = to_projection(plsm.lsm, variable)\n",
    "    vari['lat'] = vari['lat'].sel(x=1)\n",
    "    vari['lon'] = vari['lon'].sel(y=1)\n",
    "    vari = vari.rename({'lat': 'y', 'lon': 'x'})\n",
    "    return vari\n",
    "    \n",
    "\n",
    "def genear_tif(ruta_wrfout, variable, time_idx, out_path):\n",
    "    plsm = abrir_plsm(ruta_wrfout)\n",
    "    vari = convertir_variable(plsm, variable)\n",
    "    arr = vari[variable][time_idx].values[:,:]\n",
    "    arr[arr == 0] = np.nan \n",
    "    guardar_tif(vari, arr, out_path)\n",
    "    plsm.close()\n",
    "\n",
    "\n",
    "def genear_tif_prec(ruta_wrfout, out_path=None):\n",
    "    plsm = abrir_plsm(ruta_wrfout)\n",
    "    if out_path == None:\n",
    "        out_path = 'ppn_' + plsm.START_DATE[:-6] + '.tif'\n",
    "    plsm.variables['RAINNC'].values = plsm.variables['RAINNC'].values + 1000\n",
    "    plsm.variables['RAINC'].values = plsm.variables['RAINC'].values + 1000\n",
    "    rainnc = convertir_variable(plsm, 'RAINNC')\n",
    "    rainc = convertir_variable(plsm, 'RAINC')\n",
    "    arr_33 = rainnc.RAINNC[33].values[:,:] + rainc.RAINC[33].values[:,:]\n",
    "    arr_9 = rainnc.RAINNC[9].values[:,:] + rainc.RAINC[9].values[:,:]\n",
    "    arr = arr_33 - arr_9\n",
    "    arr[arr_9 == 0] = np.nan \n",
    "    guardar_tif(rainnc, arr, out_path)\n",
    "    plsm.close()"
   ]
  },
  {
   "cell_type": "code",
   "execution_count": 4,
   "metadata": {},
   "outputs": [],
   "source": [
    "#corregir_wrfout('/home/andres/wrfout_d01_2018-10-18_06:00:00')"
   ]
  },
  {
   "cell_type": "code",
   "execution_count": 85,
   "metadata": {},
   "outputs": [
    {
     "name": "stderr",
     "output_type": "stream",
     "text": [
      "/home/andres/anaconda3/envs/gpd/lib/python3.6/site-packages/xarray/backends/api.py:611: FutureWarning: The autoclose argument is no longer used by xarray.open_dataset() and is now ignored; it will be removed in xarray v0.12. If necessary, you can control the maximum number of simultaneous open files with xarray.set_options(file_cache_maxsize=...).\n",
      "  datasets = [open_(p, **open_kwargs) for p in paths]\n",
      "/home/andres/anaconda3/envs/gpd/lib/python3.6/site-packages/pangaea/read.py:140: FutureWarning: The inplace argument has been deprecated and will be removed in xarray 0.12.0.\n",
      "  inplace=True\n"
     ]
    }
   ],
   "source": [
    "genear_tif('wrfout.nc', 'T2', 15, 't2_15-3.tif')"
   ]
  },
  {
   "cell_type": "code",
   "execution_count": 5,
   "metadata": {},
   "outputs": [
    {
     "name": "stderr",
     "output_type": "stream",
     "text": [
      "/home/andres/anaconda3/envs/gpd/lib/python3.6/site-packages/xarray/backends/api.py:611: FutureWarning: The autoclose argument is no longer used by xarray.open_dataset() and is now ignored; it will be removed in xarray v0.12. If necessary, you can control the maximum number of simultaneous open files with xarray.set_options(file_cache_maxsize=...).\n",
      "  datasets = [open_(p, **open_kwargs) for p in paths]\n",
      "/home/andres/anaconda3/envs/gpd/lib/python3.6/site-packages/pangaea/read.py:140: FutureWarning: The inplace argument has been deprecated and will be removed in xarray 0.12.0.\n",
      "  inplace=True\n"
     ]
    }
   ],
   "source": [
    "genear_tif_prec('wrfout.nc')"
   ]
  },
  {
   "cell_type": "code",
   "execution_count": null,
   "metadata": {},
   "outputs": [],
   "source": []
  }
 ],
 "metadata": {
  "kernelspec": {
   "display_name": "Python 3",
   "language": "python",
   "name": "python3"
  },
  "language_info": {
   "codemirror_mode": {
    "name": "ipython",
    "version": 3
   },
   "file_extension": ".py",
   "mimetype": "text/x-python",
   "name": "python",
   "nbconvert_exporter": "python",
   "pygments_lexer": "ipython3",
   "version": "3.6.7"
  }
 },
 "nbformat": 4,
 "nbformat_minor": 2
}
