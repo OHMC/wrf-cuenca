{
 "cells": [
  {
   "cell_type": "code",
   "execution_count": 44,
   "metadata": {},
   "outputs": [
    {
     "ename": "TypeError",
     "evalue": "'str' object is not callable",
     "output_type": "error",
     "traceback": [
      "\u001b[0;31m---------------------------------------------------------------------------\u001b[0m",
      "\u001b[0;31mTypeError\u001b[0m                                 Traceback (most recent call last)",
      "\u001b[0;32m<ipython-input-44-2bc388af940e>\u001b[0m in \u001b[0;36m<module>\u001b[0;34m\u001b[0m\n\u001b[1;32m     23\u001b[0m \u001b[0mcb1\u001b[0m \u001b[0;34m=\u001b[0m \u001b[0mmpl\u001b[0m\u001b[0;34m.\u001b[0m\u001b[0mcolorbar\u001b[0m\u001b[0;34m.\u001b[0m\u001b[0mColorbarBase\u001b[0m\u001b[0;34m(\u001b[0m\u001b[0max\u001b[0m\u001b[0;34m,\u001b[0m \u001b[0mcmap\u001b[0m\u001b[0;34m=\u001b[0m\u001b[0mcm_riesgos\u001b[0m\u001b[0;34m,\u001b[0m \u001b[0mnorm\u001b[0m\u001b[0;34m=\u001b[0m\u001b[0mnorm\u001b[0m\u001b[0;34m,\u001b[0m \u001b[0morientation\u001b[0m\u001b[0;34m=\u001b[0m\u001b[0;34m'horizontal'\u001b[0m\u001b[0;34m,\u001b[0m \u001b[0mextend\u001b[0m\u001b[0;34m=\u001b[0m\u001b[0;34m'both'\u001b[0m\u001b[0;34m)\u001b[0m\u001b[0;34m\u001b[0m\u001b[0;34m\u001b[0m\u001b[0m\n\u001b[1;32m     24\u001b[0m \u001b[0mcb1\u001b[0m\u001b[0;34m.\u001b[0m\u001b[0mset_label\u001b[0m\u001b[0;34m(\u001b[0m\u001b[0;34m'Precipitación (mm)'\u001b[0m\u001b[0;34m)\u001b[0m\u001b[0;34m\u001b[0m\u001b[0;34m\u001b[0m\u001b[0m\n\u001b[0;32m---> 25\u001b[0;31m \u001b[0mcb1\u001b[0m\u001b[0;34m.\u001b[0m\u001b[0mextend\u001b[0m\u001b[0;34m(\u001b[0m\u001b[0mmax\u001b[0m\u001b[0;34m)\u001b[0m\u001b[0;34m\u001b[0m\u001b[0;34m\u001b[0m\u001b[0m\n\u001b[0m\u001b[1;32m     26\u001b[0m \u001b[0;31m#fig.show()\u001b[0m\u001b[0;34m\u001b[0m\u001b[0;34m\u001b[0m\u001b[0;34m\u001b[0m\u001b[0m\n",
      "\u001b[0;31mTypeError\u001b[0m: 'str' object is not callable"
     ]
    },
    {
     "data": {
      "image/png": "[encoded data removed]",
      "text/plain": [
       "<Figure size 720x72 with 1 Axes>"
      ]
     },
     "metadata": {
      "needs_background": "light"
     },
     "output_type": "display_data"
    }
   ],
   "source": [
    "import matplotlib.pyplot as plt\n",
    "import matplotlib as mpl\n",
    "from matplotlib.colors import LinearSegmentedColormap\n",
    "\n",
    "fig, ax = plt.subplots(figsize=(10, 1))\n",
    "fig.subplots_adjust(bottom=0.5)\n",
    "\n",
    "cmap = mpl.cm.cool\n",
    "norm = mpl.colors.Normalize(vmin=0, vmax=100)\n",
    "\n",
    "cm_riesgos = LinearSegmentedColormap.from_list(\n",
    "             'cmap_name',\n",
    "             [\n",
    "                (200/256, 255/256, 200/256),\n",
    "                (255/256, 255/256, 0/256),\n",
    "                (256/256, 0, 0),\n",
    "                (200/256, 0/256, 256/256)\n",
    "             ],\n",
    "             N=10\n",
    "             )\n",
    "\n",
    "\n",
    "cb1 = mpl.colorbar.ColorbarBase(ax, cmap=cm_riesgos, norm=norm, orientation='horizontal', extend='both')\n",
    "cb1.set_label('Precipitación (mm)')\n",
    "cb1.extend(max)\n",
    "#fig.show()"
   ]
  },
  {
   "cell_type": "code",
   "execution_count": 45,
   "metadata": {},
   "outputs": [
    {
     "data": {
      "image/png": "[encoded data removed]",
      "text/plain": [
       "<Figure size 720x72 with 1 Axes>"
      ]
     },
     "metadata": {
      "needs_background": "light"
     },
     "output_type": "display_data"
    }
   ],
   "source": [
    "import matplotlib.pyplot as plt\n",
    "import matplotlib as mpl\n",
    "from matplotlib.colors import LinearSegmentedColormap\n",
    "\n",
    "fig, ax = plt.subplots(figsize=(10, 1))\n",
    "fig.subplots_adjust(bottom=0.5)\n",
    "\n",
    "cmap = mpl.cm.cool\n",
    "norm = mpl.colors.Normalize(vmin=0, vmax=100)\n",
    "\n",
    "cm_riesgos = LinearSegmentedColormap.from_list(\n",
    "             'cmap_name',\n",
    "             [\n",
    "                (200/256, 255/256, 200/256),\n",
    "                (255/256, 255/256, 0/256),\n",
    "                (256/256, 0, 0)\n",
    "             ],\n",
    "             N=10\n",
    "             )\n",
    "\n",
    "\n",
    "cb1 = mpl.colorbar.ColorbarBase(ax, cmap=cm_riesgos, norm=norm, orientation='horizontal', extend='both')\n",
    "cb1.set_label('Precipitación (mm)')"
   ]
  },
  {
   "cell_type": "code",
   "execution_count": 39,
   "metadata": {},
   "outputs": [],
   "source": [
    "def spikesplot_cb(cmap='viridis', fig=None):\n",
    "    # Add colorbar\n",
    "    if fig is None:\n",
    "        fig = plt.gcf()\n",
    "\n",
    "    cb = mpl.colorbar.ColorbarBase(ax, cmap=cm_riesgos, spacing='proportional',\n",
    "                      orientation='horizontal', drawedges=False)\n",
    "    cb.set_ticks([0, 0.5, 1.0])\n",
    "    cb.set_ticklabels(['Inferior', '(axial slice)', 'Superior'])\n",
    "    cb.outline.set_linewidth(0)\n",
    "    cb.ax.xaxis.set_tick_params(width=0)\n",
    "    return cb "
   ]
  },
  {
   "cell_type": "code",
   "execution_count": 43,
   "metadata": {},
   "outputs": [
    {
     "data": {
      "image/png": "[encoded data removed]",
      "text/plain": [
       "<Figure size 720x72 with 1 Axes>"
      ]
     },
     "metadata": {
      "needs_background": "light"
     },
     "output_type": "display_data"
    }
   ],
   "source": [
    "fig, ax = plt.subplots(figsize=(10, 1))\n",
    "fig.subplots_adjust(bottom=0.5)\n",
    "\n",
    "cb = mpl.colorbar.ColorbarBase(ax, cmap=cm_riesgos, spacing='proportional',\n",
    "                      orientation='horizontal', drawedges=False)\n",
    "cb.set_ticks([0, 0.5, 1.0])\n",
    "cb.set_ticklabels(['Inferior', '(axial slice)', 'Superior'])"
   ]
  }
 ],
 "metadata": {
  "kernelspec": {
   "display_name": "Python 3",
   "language": "python",
   "name": "python3"
  },
  "language_info": {
   "codemirror_mode": {
    "name": "ipython",
    "version": 3
   },
   "file_extension": ".py",
   "mimetype": "text/x-python",
   "name": "python",
   "nbconvert_exporter": "python",
   "pygments_lexer": "ipython3",
   "version": "3.6.7"
  }
 },
 "nbformat": 4,
 "nbformat_minor": 2
}
