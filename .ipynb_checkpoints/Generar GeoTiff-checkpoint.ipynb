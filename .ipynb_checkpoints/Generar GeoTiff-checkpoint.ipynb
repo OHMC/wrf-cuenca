{
 "cells": [
  {
   "cell_type": "markdown",
   "metadata": {},
   "source": [
    "# Función para generar GeoTiff\n"
   ]
  },
  {
   "cell_type": "code",
   "execution_count": 3,
   "metadata": {},
   "outputs": [],
   "source": [
    "import xarray as xr\n",
    "import numpy as np\n",
    "import pangaea as pa\n",
    "import xarray as xr"
   ]
  },
  {
   "cell_type": "code",
   "execution_count": 87,
   "metadata": {},
   "outputs": [],
   "source": [
    "def corregir_wrfout(ruta_wrfout):\n",
    "    xds =  xr.open_dataset(ruta_wrfout)\n",
    "    variables = ['XLAT', 'XLONG', 'XLAT_U', 'XLONG_U', 'XLAT_V', 'XLONG_V']\n",
    "    for var in variables:\n",
    "        if len(xds.coords['XLAT'].shape) > 2:\n",
    "            xds.coords[var] = xds.coords[var].mean(axis=0)\n",
    "    xds.to_netcdf(ruta_wrfout + '.nc')\n",
    "    xds.close()\n",
    "\n",
    "    \n",
    "def abrir_plsm(ruta_wrfout):\n",
    "    plsm = pa.open_mfdataset(ruta_wrfout,\n",
    "                       lat_var='XLAT',\n",
    "                       lon_var='XLONG',\n",
    "                       time_var='XTIME',\n",
    "                       lat_dim='south_north',\n",
    "                       lon_dim='west_east',\n",
    "                       time_dim='Time')\n",
    "    return plsm\n",
    "\n",
    "\n",
    "def to_projection(plsm, variable, projection=None):\n",
    "    \"\"\"Convert Grid to New Projection.\n",
    "        Parameters\n",
    "        ----------\n",
    "        variable: :obj:`str`\n",
    "            Name of variable in dataset.\n",
    "        projection: :func:`osr.SpatialReference`\n",
    "            Projection to convert data to.\n",
    "        Returns\n",
    "        -------\n",
    "        :func:`xarray.Dataset`\n",
    "    \"\"\"\n",
    "    if projection == None:\n",
    "        from osgeo import osr, gdalconst\n",
    "        projection = osr.SpatialReference()\n",
    "        projection.ImportFromProj4(\"+proj=longlat +ellps=WGS84 +datum=WGS84 +no_defs\")\n",
    "    new_data = []\n",
    "    from gazar.grid import ArrayGrid\n",
    "    for band in range(plsm._obj.dims[plsm.time_dim]):\n",
    "        arr_grid = ArrayGrid(in_array=plsm._obj[variable][band].values[::-1,:],\n",
    "                             wkt_projection=plsm.projection.ExportToWkt(),\n",
    "                             geotransform=plsm.geotransform)\n",
    "        ggrid = arr_grid.to_projection(projection, gdalconst.GRA_Average)\n",
    "        new_data.append(ggrid.np_array())\n",
    "\n",
    "    plsm.to_datetime()\n",
    "    return plsm._export_dataset(variable, np.array(new_data),\n",
    "ggrid)\n",
    "\n",
    "\n",
    "def guardar_tif(vari, arr, out_path):\n",
    "    import rasterio\n",
    "    new_dataset = rasterio.open(out_path, 'w', driver='GTiff',\n",
    "                                height = arr.shape[0], width = arr.shape[1],\n",
    "                                count=1, dtype=str(arr.dtype),\n",
    "                                crs=vari.lsm.projection.ExportToWkt(),\n",
    "                                transform=vari.lsm.affine)\n",
    "    new_dataset.write(arr, 1)\n",
    "    new_dataset.close()\n",
    "\n",
    "    \n",
    "def convertir_variable(plsm, variable):\n",
    "    vari = to_projection(plsm.lsm, variable)\n",
    "    vari['lat'] = vari['lat'].sel(x=1)\n",
    "    vari['lon'] = vari['lon'].sel(y=1)\n",
    "    vari = vari.rename({'lat': 'y', 'lon': 'x'})\n",
    "    return vari\n",
    "    \n",
    "\n",
    "def genear_tif(ruta_wrfout, variable, time_idx, out_path):\n",
    "    plsm = abrir_plsm(ruta_wrfout)\n",
    "    vari = convertir_variable(plsm, variable)\n",
    "    arr = vari[variable][time_idx].values[:,:]\n",
    "    arr[arr == 0] = np.nan \n",
    "    guardar_tif(vari, arr, out_path)\n",
    "    plsm.close()\n",
    "\n",
    "\n",
    "def genear_tif_prec(ruta_wrfout, out_path=None):\n",
    "    plsm = abrir_plsm(ruta_wrfout)\n",
    "    if out_path == None:\n",
    "        out_path = 'ppn_' + plsm.START_DATE[:-6] + '.tif'\n",
    "    plsm.variables['RAINNC'].values = plsm.variables['RAINNC'].values + 1000\n",
    "    plsm.variables['RAINC'].values = plsm.variables['RAINC'].values + 1000\n",
    "    rainnc = convertir_variable(plsm, 'RAINNC')\n",
    "    rainc = convertir_variable(plsm, 'RAINC')\n",
    "    arr_33 = rainnc.RAINNC[33].values[:,:] + rainc.RAINC[33].values[:,:]\n",
    "    arr_9 = rainnc.RAINNC[9].values[:,:] + rainc.RAINC[9].values[:,:]\n",
    "    arr = arr_33 - arr_9\n",
    "    arr[arr_9 == 0] = np.nan \n",
    "    guardar_tif(rainnc, arr, out_path)\n",
    "    plsm.close()"
   ]
  },
  {
   "cell_type": "code",
   "execution_count": 88,
   "metadata": {},
   "outputs": [
    {
     "ename": "KeyboardInterrupt",
     "evalue": "",
     "output_type": "error",
     "traceback": [
      "\u001b[0;31m---------------------------------------------------------------------------\u001b[0m",
      "\u001b[0;31mKeyboardInterrupt\u001b[0m                         Traceback (most recent call last)",
      "\u001b[0;32m<ipython-input-88-9f4972f8befb>\u001b[0m in \u001b[0;36m<module>\u001b[0;34m\u001b[0m\n\u001b[0;32m----> 1\u001b[0;31m \u001b[0mcorregir_wrfout\u001b[0m\u001b[0;34m(\u001b[0m\u001b[0;34m'/home/andres/wrfout_d01_2018-10-18_06:00:00'\u001b[0m\u001b[0;34m)\u001b[0m\u001b[0;34m\u001b[0m\u001b[0m\n\u001b[0m",
      "\u001b[0;32m<ipython-input-87-e21afe072c6e>\u001b[0m in \u001b[0;36mcorregir_wrfout\u001b[0;34m(ruta_wrfout)\u001b[0m\n\u001b[1;32m      5\u001b[0m         \u001b[0;32mif\u001b[0m \u001b[0mlen\u001b[0m\u001b[0;34m(\u001b[0m\u001b[0mxds\u001b[0m\u001b[0;34m.\u001b[0m\u001b[0mcoords\u001b[0m\u001b[0;34m[\u001b[0m\u001b[0;34m'XLAT'\u001b[0m\u001b[0;34m]\u001b[0m\u001b[0;34m.\u001b[0m\u001b[0mshape\u001b[0m\u001b[0;34m)\u001b[0m \u001b[0;34m>\u001b[0m \u001b[0;36m2\u001b[0m\u001b[0;34m:\u001b[0m\u001b[0;34m\u001b[0m\u001b[0m\n\u001b[1;32m      6\u001b[0m             \u001b[0mxds\u001b[0m\u001b[0;34m.\u001b[0m\u001b[0mcoords\u001b[0m\u001b[0;34m[\u001b[0m\u001b[0mvar\u001b[0m\u001b[0;34m]\u001b[0m \u001b[0;34m=\u001b[0m \u001b[0mxds\u001b[0m\u001b[0;34m.\u001b[0m\u001b[0mcoords\u001b[0m\u001b[0;34m[\u001b[0m\u001b[0mvar\u001b[0m\u001b[0;34m]\u001b[0m\u001b[0;34m.\u001b[0m\u001b[0mmean\u001b[0m\u001b[0;34m(\u001b[0m\u001b[0maxis\u001b[0m\u001b[0;34m=\u001b[0m\u001b[0;36m0\u001b[0m\u001b[0;34m)\u001b[0m\u001b[0;34m\u001b[0m\u001b[0m\n\u001b[0;32m----> 7\u001b[0;31m     \u001b[0mxds\u001b[0m\u001b[0;34m.\u001b[0m\u001b[0mto_netcdf\u001b[0m\u001b[0;34m(\u001b[0m\u001b[0mruta_wrfout\u001b[0m \u001b[0;34m+\u001b[0m \u001b[0;34m'.nc'\u001b[0m\u001b[0;34m,\u001b[0m \u001b[0mformat\u001b[0m\u001b[0;34m=\u001b[0m\u001b[0;34m'NETCDF3_64BIT'\u001b[0m\u001b[0;34m)\u001b[0m\u001b[0;34m\u001b[0m\u001b[0m\n\u001b[0m\u001b[1;32m      8\u001b[0m     \u001b[0mxds\u001b[0m\u001b[0;34m.\u001b[0m\u001b[0mclose\u001b[0m\u001b[0;34m(\u001b[0m\u001b[0;34m)\u001b[0m\u001b[0;34m\u001b[0m\u001b[0m\n\u001b[1;32m      9\u001b[0m \u001b[0;34m\u001b[0m\u001b[0m\n",
      "\u001b[0;32m~/anaconda3/envs/gpd/lib/python3.6/site-packages/xarray/core/dataset.py\u001b[0m in \u001b[0;36mto_netcdf\u001b[0;34m(self, path, mode, format, group, engine, encoding, unlimited_dims, compute)\u001b[0m\n\u001b[1;32m   1220\u001b[0m                          \u001b[0mengine\u001b[0m\u001b[0;34m=\u001b[0m\u001b[0mengine\u001b[0m\u001b[0;34m,\u001b[0m \u001b[0mencoding\u001b[0m\u001b[0;34m=\u001b[0m\u001b[0mencoding\u001b[0m\u001b[0;34m,\u001b[0m\u001b[0;34m\u001b[0m\u001b[0m\n\u001b[1;32m   1221\u001b[0m                          \u001b[0munlimited_dims\u001b[0m\u001b[0;34m=\u001b[0m\u001b[0munlimited_dims\u001b[0m\u001b[0;34m,\u001b[0m\u001b[0;34m\u001b[0m\u001b[0m\n\u001b[0;32m-> 1222\u001b[0;31m                          compute=compute)\n\u001b[0m\u001b[1;32m   1223\u001b[0m \u001b[0;34m\u001b[0m\u001b[0m\n\u001b[1;32m   1224\u001b[0m     def to_zarr(self, store=None, mode='w-', synchronizer=None, group=None,\n",
      "\u001b[0;32m~/anaconda3/envs/gpd/lib/python3.6/site-packages/xarray/backends/api.py\u001b[0m in \u001b[0;36mto_netcdf\u001b[0;34m(dataset, path_or_file, mode, format, group, engine, encoding, unlimited_dims, compute, multifile)\u001b[0m\n\u001b[1;32m    716\u001b[0m         \u001b[0;31m# to be parallelized with dask\u001b[0m\u001b[0;34m\u001b[0m\u001b[0;34m\u001b[0m\u001b[0m\n\u001b[1;32m    717\u001b[0m         dump_to_store(dataset, store, writer, encoding=encoding,\n\u001b[0;32m--> 718\u001b[0;31m                       unlimited_dims=unlimited_dims)\n\u001b[0m\u001b[1;32m    719\u001b[0m         \u001b[0;32mif\u001b[0m \u001b[0mautoclose\u001b[0m\u001b[0;34m:\u001b[0m\u001b[0;34m\u001b[0m\u001b[0m\n\u001b[1;32m    720\u001b[0m             \u001b[0mstore\u001b[0m\u001b[0;34m.\u001b[0m\u001b[0mclose\u001b[0m\u001b[0;34m(\u001b[0m\u001b[0;34m)\u001b[0m\u001b[0;34m\u001b[0m\u001b[0m\n",
      "\u001b[0;32m~/anaconda3/envs/gpd/lib/python3.6/site-packages/xarray/backends/api.py\u001b[0m in \u001b[0;36mdump_to_store\u001b[0;34m(dataset, store, writer, encoder, encoding, unlimited_dims)\u001b[0m\n\u001b[1;32m    759\u001b[0m \u001b[0;34m\u001b[0m\u001b[0m\n\u001b[1;32m    760\u001b[0m     store.store(variables, attrs, check_encoding, writer,\n\u001b[0;32m--> 761\u001b[0;31m                 unlimited_dims=unlimited_dims)\n\u001b[0m\u001b[1;32m    762\u001b[0m \u001b[0;34m\u001b[0m\u001b[0m\n\u001b[1;32m    763\u001b[0m \u001b[0;34m\u001b[0m\u001b[0m\n",
      "\u001b[0;32m~/anaconda3/envs/gpd/lib/python3.6/site-packages/xarray/backends/common.py\u001b[0m in \u001b[0;36mstore\u001b[0;34m(self, variables, attributes, check_encoding_set, writer, unlimited_dims)\u001b[0m\n\u001b[1;32m    264\u001b[0m         \u001b[0mself\u001b[0m\u001b[0;34m.\u001b[0m\u001b[0mset_dimensions\u001b[0m\u001b[0;34m(\u001b[0m\u001b[0mvariables\u001b[0m\u001b[0;34m,\u001b[0m \u001b[0munlimited_dims\u001b[0m\u001b[0;34m=\u001b[0m\u001b[0munlimited_dims\u001b[0m\u001b[0;34m)\u001b[0m\u001b[0;34m\u001b[0m\u001b[0m\n\u001b[1;32m    265\u001b[0m         self.set_variables(variables, check_encoding_set, writer,\n\u001b[0;32m--> 266\u001b[0;31m                            unlimited_dims=unlimited_dims)\n\u001b[0m\u001b[1;32m    267\u001b[0m \u001b[0;34m\u001b[0m\u001b[0m\n\u001b[1;32m    268\u001b[0m     \u001b[0;32mdef\u001b[0m \u001b[0mset_attributes\u001b[0m\u001b[0;34m(\u001b[0m\u001b[0mself\u001b[0m\u001b[0;34m,\u001b[0m \u001b[0mattributes\u001b[0m\u001b[0;34m)\u001b[0m\u001b[0;34m:\u001b[0m\u001b[0;34m\u001b[0m\u001b[0m\n",
      "\u001b[0;32m~/anaconda3/envs/gpd/lib/python3.6/site-packages/xarray/backends/common.py\u001b[0m in \u001b[0;36mset_variables\u001b[0;34m(self, variables, check_encoding_set, writer, unlimited_dims)\u001b[0m\n\u001b[1;32m    302\u001b[0m             \u001b[0mcheck\u001b[0m \u001b[0;34m=\u001b[0m \u001b[0mvn\u001b[0m \u001b[0;32min\u001b[0m \u001b[0mcheck_encoding_set\u001b[0m\u001b[0;34m\u001b[0m\u001b[0m\n\u001b[1;32m    303\u001b[0m             target, source = self.prepare_variable(\n\u001b[0;32m--> 304\u001b[0;31m                 name, v, check, unlimited_dims=unlimited_dims)\n\u001b[0m\u001b[1;32m    305\u001b[0m \u001b[0;34m\u001b[0m\u001b[0m\n\u001b[1;32m    306\u001b[0m             \u001b[0mwriter\u001b[0m\u001b[0;34m.\u001b[0m\u001b[0madd\u001b[0m\u001b[0;34m(\u001b[0m\u001b[0msource\u001b[0m\u001b[0;34m,\u001b[0m \u001b[0mtarget\u001b[0m\u001b[0;34m)\u001b[0m\u001b[0;34m\u001b[0m\u001b[0m\n",
      "\u001b[0;32m~/anaconda3/envs/gpd/lib/python3.6/site-packages/xarray/backends/netCDF4_.py\u001b[0m in \u001b[0;36mprepare_variable\u001b[0;34m(self, name, variable, check_encoding, unlimited_dims)\u001b[0m\n\u001b[1;32m    465\u001b[0m                 least_significant_digit=encoding.get(\n\u001b[1;32m    466\u001b[0m                     'least_significant_digit'),\n\u001b[0;32m--> 467\u001b[0;31m                 fill_value=fill_value)\n\u001b[0m\u001b[1;32m    468\u001b[0m             \u001b[0m_disable_auto_decode_variable\u001b[0m\u001b[0;34m(\u001b[0m\u001b[0mnc4_var\u001b[0m\u001b[0;34m)\u001b[0m\u001b[0;34m\u001b[0m\u001b[0m\n\u001b[1;32m    469\u001b[0m \u001b[0;34m\u001b[0m\u001b[0m\n",
      "\u001b[0;32mnetCDF4/_netCDF4.pyx\u001b[0m in \u001b[0;36mnetCDF4._netCDF4.Dataset.createVariable\u001b[0;34m()\u001b[0m\n",
      "\u001b[0;32mnetCDF4/_netCDF4.pyx\u001b[0m in \u001b[0;36mnetCDF4._netCDF4.Variable.__init__\u001b[0;34m()\u001b[0m\n",
      "\u001b[0;32m~/.local/lib/python3.6/site-packages/netCDF4/utils.py\u001b[0m in \u001b[0;36m_find_dim\u001b[0;34m(grp, dimname)\u001b[0m\n\u001b[1;32m     38\u001b[0m     \u001b[0;32mreturn\u001b[0m \u001b[0;34m[\u001b[0m\u001b[0mA\u001b[0m\u001b[0;34m[\u001b[0m\u001b[0mi\u001b[0m\u001b[0;34m]\u001b[0m \u001b[0;32mfor\u001b[0m \u001b[0mi\u001b[0m \u001b[0;32min\u001b[0m \u001b[0msorted\u001b[0m\u001b[0;34m(\u001b[0m\u001b[0mrange\u001b[0m\u001b[0;34m(\u001b[0m\u001b[0mlen\u001b[0m\u001b[0;34m(\u001b[0m\u001b[0mA\u001b[0m\u001b[0;34m)\u001b[0m\u001b[0;34m)\u001b[0m\u001b[0;34m,\u001b[0m \u001b[0mkey\u001b[0m\u001b[0;34m=\u001b[0m\u001b[0mB\u001b[0m\u001b[0;34m.\u001b[0m\u001b[0m__getitem__\u001b[0m\u001b[0;34m)\u001b[0m\u001b[0;34m]\u001b[0m\u001b[0;34m\u001b[0m\u001b[0m\n\u001b[1;32m     39\u001b[0m \u001b[0;34m\u001b[0m\u001b[0m\n\u001b[0;32m---> 40\u001b[0;31m \u001b[0;32mdef\u001b[0m \u001b[0m_find_dim\u001b[0m\u001b[0;34m(\u001b[0m\u001b[0mgrp\u001b[0m\u001b[0;34m,\u001b[0m \u001b[0mdimname\u001b[0m\u001b[0;34m)\u001b[0m\u001b[0;34m:\u001b[0m\u001b[0;34m\u001b[0m\u001b[0m\n\u001b[0m\u001b[1;32m     41\u001b[0m     \u001b[0;31m# find Dimension instance given group and name.\u001b[0m\u001b[0;34m\u001b[0m\u001b[0;34m\u001b[0m\u001b[0m\n\u001b[1;32m     42\u001b[0m     \u001b[0;31m# look in current group, and parents.\u001b[0m\u001b[0;34m\u001b[0m\u001b[0;34m\u001b[0m\u001b[0m\n",
      "\u001b[0;31mKeyboardInterrupt\u001b[0m: "
     ]
    }
   ],
   "source": [
    "#corregir_wrfout('/home/andres/wrfout_d01_2018-10-18_06:00:00')"
   ]
  },
  {
   "cell_type": "code",
   "execution_count": 85,
   "metadata": {},
   "outputs": [
    {
     "name": "stderr",
     "output_type": "stream",
     "text": [
      "/home/andres/anaconda3/envs/gpd/lib/python3.6/site-packages/xarray/backends/api.py:611: FutureWarning: The autoclose argument is no longer used by xarray.open_dataset() and is now ignored; it will be removed in xarray v0.12. If necessary, you can control the maximum number of simultaneous open files with xarray.set_options(file_cache_maxsize=...).\n",
      "  datasets = [open_(p, **open_kwargs) for p in paths]\n",
      "/home/andres/anaconda3/envs/gpd/lib/python3.6/site-packages/pangaea/read.py:140: FutureWarning: The inplace argument has been deprecated and will be removed in xarray 0.12.0.\n",
      "  inplace=True\n"
     ]
    }
   ],
   "source": [
    "genear_tif('/home/andres/wrfout_d01_2018-10-18_06:00:00.nc', 'T2', 15, 't2_15-3.tif')"
   ]
  },
  {
   "cell_type": "code",
   "execution_count": 86,
   "metadata": {},
   "outputs": [
    {
     "name": "stderr",
     "output_type": "stream",
     "text": [
      "/home/andres/anaconda3/envs/gpd/lib/python3.6/site-packages/xarray/backends/api.py:611: FutureWarning: The autoclose argument is no longer used by xarray.open_dataset() and is now ignored; it will be removed in xarray v0.12. If necessary, you can control the maximum number of simultaneous open files with xarray.set_options(file_cache_maxsize=...).\n",
      "  datasets = [open_(p, **open_kwargs) for p in paths]\n",
      "/home/andres/anaconda3/envs/gpd/lib/python3.6/site-packages/pangaea/read.py:140: FutureWarning: The inplace argument has been deprecated and will be removed in xarray 0.12.0.\n",
      "  inplace=True\n"
     ]
    }
   ],
   "source": [
    "genear_tif_prec('wrfout.nc')"
   ]
  },
  {
   "cell_type": "code",
   "execution_count": null,
   "metadata": {},
   "outputs": [],
   "source": []
  }
 ],
 "metadata": {
  "kernelspec": {
   "display_name": "Python 3",
   "language": "python",
   "name": "python3"
  },
  "language_info": {
   "codemirror_mode": {
    "name": "ipython",
    "version": 3
   },
   "file_extension": ".py",
   "mimetype": "text/x-python",
   "name": "python",
   "nbconvert_exporter": "python",
   "pygments_lexer": "ipython3",
   "version": "3.6.6"
  }
 },
 "nbformat": 4,
 "nbformat_minor": 2
}
